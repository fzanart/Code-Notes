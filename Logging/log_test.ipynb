{
 "cells": [
  {
   "cell_type": "code",
   "execution_count": 1,
   "metadata": {},
   "outputs": [
    {
     "name": "stdout",
     "output_type": "stream",
     "text": [
      "09/07/2022 12:58:24 PM - INFO - Pizza created: Sicilian ($18)\n",
      "09/07/2022 12:58:24 PM - INFO - Made 5 Sicilian pizza(s)\n",
      "09/07/2022 12:58:24 PM - INFO - Ate 4 pizza(s)\n",
      "09/07/2022 12:58:24 PM - INFO - Pizza created: quattro formaggi ($16)\n",
      "09/07/2022 12:58:24 PM - INFO - Made 2 quattro formaggi pizza(s)\n",
      "09/07/2022 12:58:24 PM - INFO - Ate 2 pizza(s)\n"
     ]
    }
   ],
   "source": [
    "import json\n",
    "import logging\n",
    "import time\n",
    "\n",
    "logging.config.fileConfig('logging.conf')\n",
    "logger = logging.getLogger('jsonLogger')\n",
    "# logger.setLevel(logging.INFO)\n",
    "\n",
    "# # Create handler, define the filename\n",
    "# stream_handler = logging.StreamHandler()\n",
    "# file_handler   = logging.FileHandler('foo.log')\n",
    "\n",
    "# # Define the formart to display in screen and file\n",
    "# stream_formatter = logging.Formatter('%(asctime)s - %(levelname)s - %(message)s', datefmt='%m/%d/%Y %I:%M:%S %p') # the one displayed at the screen\n",
    "# file_formatter   = logging.Formatter(\"{'time':'%(asctime)s', 'level': '%(levelname)s', 'message': '%(message)s'}\", datefmt='%m/%d/%Y %I:%M:%S %p') # the one saved in the file\n",
    "\n",
    "# # Set the formats\n",
    "# stream_handler.setFormatter(stream_formatter)\n",
    "# file_handler.setFormatter(file_formatter)\n",
    "# logger.addHandler(file_handler)\n",
    "# logger.addHandler(stream_handler)\n",
    "\n",
    "\n",
    "class Pizza():\n",
    "    def __init__(self, name, price):\n",
    "        self.name = name\n",
    "        self.price = price\n",
    "        logger.info(\"Pizza created: {} (${})\".format(self.name, self.price))\n",
    "\n",
    "    def make(self, quantity=1):\n",
    "        logger.info(\"Made {} {} pizza(s)\".format(quantity, self.name))\n",
    "\n",
    "    def eat(self, quantity=1):\n",
    "        logger.info(\"Ate {} pizza(s)\".format(quantity, self.name))\n",
    "\n",
    "pizza_01 = Pizza(\"Sicilian\", 18)\n",
    "pizza_01.make(5)\n",
    "pizza_01.eat(4)\n",
    "\n",
    "pizza_02 = Pizza(\"quattro formaggi\", 16)\n",
    "pizza_02.make(2)\n",
    "pizza_02.eat(2)"
   ]
  }
 ],
 "metadata": {
  "kernelspec": {
   "display_name": "Python 3.9.12 ('base')",
   "language": "python",
   "name": "python3"
  },
  "language_info": {
   "codemirror_mode": {
    "name": "ipython",
    "version": 3
   },
   "file_extension": ".py",
   "mimetype": "text/x-python",
   "name": "python",
   "nbconvert_exporter": "python",
   "pygments_lexer": "ipython3",
   "version": "3.9.12"
  },
  "orig_nbformat": 4,
  "vscode": {
   "interpreter": {
    "hash": "e86141e003a17264a1844ca48bdee101e02185e2b5602e8f4c4792b080c87e15"
   }
  }
 },
 "nbformat": 4,
 "nbformat_minor": 2
}
